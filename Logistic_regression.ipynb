{
  "nbformat": 4,
  "nbformat_minor": 0,
  "metadata": {
    "colab": {
      "provenance": [],
      "authorship_tag": "ABX9TyNuyQS5BcG7kICsWZbB5Z4g",
      "include_colab_link": true
    },
    "kernelspec": {
      "name": "python3",
      "display_name": "Python 3"
    },
    "language_info": {
      "name": "python"
    }
  },
  "cells": [
    {
      "cell_type": "markdown",
      "metadata": {
        "id": "view-in-github",
        "colab_type": "text"
      },
      "source": [
        "<a href=\"https://colab.research.google.com/github/NafisFuadTanvir/Ai-lab-works/blob/main/Logistic_regression.ipynb\" target=\"_parent\"><img src=\"https://colab.research.google.com/assets/colab-badge.svg\" alt=\"Open In Colab\"/></a>"
      ]
    },
    {
      "cell_type": "code",
      "execution_count": 5,
      "metadata": {
        "id": "oCIVt3fF-9E_"
      },
      "outputs": [],
      "source": [
        "from sklearn.datasets import load_iris\n",
        "from sklearn.linear_model import LogisticRegression\n",
        "from sklearn.model_selection import train_test_split\n",
        "from sklearn.metrics import accuracy_score"
      ]
    },
    {
      "cell_type": "code",
      "source": [
        "iris= load_iris()\n",
        "\n",
        "x_train,x_test,y_train,y_test= train_test_split(iris.data,iris.target,test_size=0.3 , random_state=42)\n",
        "\n",
        "\n"
      ],
      "metadata": {
        "id": "i6EG_0XuAEFC"
      },
      "execution_count": 7,
      "outputs": []
    },
    {
      "cell_type": "code",
      "source": [
        "log_reg=LogisticRegression()\n",
        "\n",
        "log_reg.fit(x_train,y_train)\n",
        "\n",
        "y_pred=log_reg.predict(x_test)\n"
      ],
      "metadata": {
        "id": "Ln0OeazYBCoH"
      },
      "execution_count": 8,
      "outputs": []
    },
    {
      "cell_type": "code",
      "source": [
        "accurecy= accuracy_score(y_test,y_pred)\n"
      ],
      "metadata": {
        "id": "r67uwAq9Bkew"
      },
      "execution_count": 9,
      "outputs": []
    },
    {
      "cell_type": "code",
      "source": [
        "print(\"accurecy:- \" ,accurecy)"
      ],
      "metadata": {
        "id": "ZD00jxqFBuum",
        "outputId": "928b6d0a-4451-45ee-bc62-825e2cae502d",
        "colab": {
          "base_uri": "https://localhost:8080/"
        }
      },
      "execution_count": 11,
      "outputs": [
        {
          "output_type": "stream",
          "name": "stdout",
          "text": [
            "accurecy:-  1.0\n"
          ]
        }
      ]
    }
  ]
}